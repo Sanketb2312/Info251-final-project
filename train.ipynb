{
 "cells": [
  {
   "cell_type": "code",
   "execution_count": 20,
   "metadata": {},
   "outputs": [],
   "source": [
    "import pandas as pd\n",
    "from sklearn.ensemble import GradientBoostingRegressor\n",
    "from sklearn.model_selection import train_test_split, GridSearchCV\n",
    "from sklearn.metrics import accuracy_score\n",
    "from sklearn.metrics import confusion_matrix\n",
    "from sklearn.metrics import f1_score\n",
    "from sklearn.metrics import precision_score\n",
    "from sklearn.metrics import recall_score\n",
    "from sklearn.metrics import mean_squared_error\n",
    "from sklearn.ensemble import AdaBoostRegressor\n",
    "import matplotlib.pyplot as plt\n",
    "import numpy as np\n"
   ]
  },
  {
   "cell_type": "code",
   "execution_count": 21,
   "metadata": {},
   "outputs": [],
   "source": [
    "\n",
    "\n",
    "data = pd.read_csv('traindata.csv')\n",
    "data = data.drop(['id','price','date', 'price/sqft', 'rootprice/sqft'], axis=1)\n",
    "X_train = data.drop(['log price'], axis=1)\n",
    "y_train = data['log price']\n",
    "\n",
    "X_train, X_test, y_train, y_test = train_test_split(X_train, y_train, test_size=0.2, random_state=42)"
   ]
  },
  {
   "cell_type": "code",
   "execution_count": 22,
   "metadata": {},
   "outputs": [
    {
     "name": "stdout",
     "output_type": "stream",
     "text": [
      "Mean Squared Error:  0.03260947785387609\n"
     ]
    }
   ],
   "source": [
    "model = GradientBoostingRegressor()\n",
    "model.fit(X_train, y_train)\n",
    "y_pred = model.predict(X_test)\n",
    "# Evaluate the model using mean squared error\n",
    "mse = mean_squared_error(y_test, y_pred)\n",
    "print(\"Mean Squared Error: \", mse)"
   ]
  },
  {
   "cell_type": "code",
   "execution_count": 32,
   "metadata": {},
   "outputs": [
    {
     "name": "stdout",
     "output_type": "stream",
     "text": [
      "Best parameters:  {'learning_rate': 0.1, 'max_depth': 7, 'n_estimators': 120}\n",
      "Best score:  0.9014886546781401\n"
     ]
    }
   ],
   "source": [
    "model_params = GradientBoostingRegressor()\n",
    "param_grid = {\n",
    "    'n_estimators': [100, 110, 120],\n",
    "    'learning_rate': [0.1],\n",
    "    'max_depth': [7]\n",
    "}\n",
    "\n",
    "grid_search = GridSearchCV(estimator=model_params, param_grid=param_grid, cv=10)\n",
    "grid_search.fit(X_train, y_train)\n",
    "print(\"Best parameters: \", grid_search.best_params_)\n",
    "print(\"Best score: \", grid_search.best_score_)\n",
    "\n"
   ]
  },
  {
   "cell_type": "code",
   "execution_count": 33,
   "metadata": {},
   "outputs": [
    {
     "data": {
      "text/plain": [
       "array([0.90103352, 0.90104123, 0.90148865])"
      ]
     },
     "execution_count": 33,
     "metadata": {},
     "output_type": "execute_result"
    }
   ],
   "source": [
    "grid_search.cv_results_['mean_test_score']"
   ]
  },
  {
   "cell_type": "code",
   "execution_count": 25,
   "metadata": {},
   "outputs": [
    {
     "name": "stdout",
     "output_type": "stream",
     "text": [
      "Best parameters:  {'learning_rate': 0.1, 'max_depth': 7, 'n_estimators': 100}\n",
      "Best score:  0.9008267383161522\n"
     ]
    }
   ],
   "source": [
    "model_best_params = GradientBoostingRegressor()\n",
    "param_grid = {\n",
    "    'n_estimators': [grid_search.best_params_['n_estimators']],\n",
    "    'learning_rate': [grid_search.best_params_['learning_rate']],\n",
    "    'max_depth': [grid_search.best_params_['max_depth']]\n",
    "}\n",
    "\n",
    "grid_search_best = GridSearchCV(estimator=model_params, param_grid=param_grid)\n",
    "grid_search_best.fit(X_train, y_train)\n",
    "print(\"Best parameters: \", grid_search.best_params_)\n",
    "print(\"Best score: \", grid_search.best_score_)\n"
   ]
  },
  {
   "cell_type": "code",
   "execution_count": 26,
   "metadata": {},
   "outputs": [
    {
     "name": "stdout",
     "output_type": "stream",
     "text": [
      "21\n"
     ]
    },
    {
     "data": {
      "text/plain": [
       "21"
      ]
     },
     "execution_count": 26,
     "metadata": {},
     "output_type": "execute_result"
    }
   ],
   "source": [
    "feature_importances = model.feature_importances_\n",
    "feature_names = data.columns.to_list()\n",
    "index = feature_names.index('log price')\n",
    "feature_names.pop(index)\n",
    "np.delete(feature_importances,index)\n",
    "print(len(feature_importances))\n",
    "len(feature_names)"
   ]
  },
  {
   "cell_type": "code",
   "execution_count": 27,
   "metadata": {},
   "outputs": [
    {
     "data": {
      "text/html": [
       "<div>\n",
       "<style scoped>\n",
       "    .dataframe tbody tr th:only-of-type {\n",
       "        vertical-align: middle;\n",
       "    }\n",
       "\n",
       "    .dataframe tbody tr th {\n",
       "        vertical-align: top;\n",
       "    }\n",
       "\n",
       "    .dataframe thead th {\n",
       "        text-align: right;\n",
       "    }\n",
       "</style>\n",
       "<table border=\"1\" class=\"dataframe\">\n",
       "  <thead>\n",
       "    <tr style=\"text-align: right;\">\n",
       "      <th></th>\n",
       "      <th>bedrooms</th>\n",
       "      <th>bathrooms</th>\n",
       "      <th>sqft_living</th>\n",
       "      <th>sqft_lot</th>\n",
       "      <th>floors</th>\n",
       "      <th>waterfront</th>\n",
       "      <th>view</th>\n",
       "      <th>condition</th>\n",
       "      <th>grade</th>\n",
       "      <th>sqft_above</th>\n",
       "      <th>...</th>\n",
       "      <th>yr_built</th>\n",
       "      <th>yr_renovated</th>\n",
       "      <th>zipcode</th>\n",
       "      <th>lat</th>\n",
       "      <th>long</th>\n",
       "      <th>sqft_living15</th>\n",
       "      <th>sqft_lot15</th>\n",
       "      <th>age</th>\n",
       "      <th>in_expensive_zip</th>\n",
       "      <th>has_basement</th>\n",
       "    </tr>\n",
       "  </thead>\n",
       "  <tbody>\n",
       "    <tr>\n",
       "      <th>0</th>\n",
       "      <td>3</td>\n",
       "      <td>3</td>\n",
       "      <td>1719</td>\n",
       "      <td>1719</td>\n",
       "      <td>1</td>\n",
       "      <td>0</td>\n",
       "      <td>0</td>\n",
       "      <td>5</td>\n",
       "      <td>8</td>\n",
       "      <td>1719</td>\n",
       "      <td>...</td>\n",
       "      <td>2023</td>\n",
       "      <td>2023</td>\n",
       "      <td>98007</td>\n",
       "      <td>47.62337</td>\n",
       "      <td>-122.13313</td>\n",
       "      <td>1719</td>\n",
       "      <td>1719</td>\n",
       "      <td>0</td>\n",
       "      <td>0</td>\n",
       "      <td>0</td>\n",
       "    </tr>\n",
       "  </tbody>\n",
       "</table>\n",
       "<p>1 rows × 21 columns</p>\n",
       "</div>"
      ],
      "text/plain": [
       "   bedrooms  bathrooms  sqft_living  sqft_lot  floors  waterfront  view  \\\n",
       "0         3          3         1719      1719       1           0     0   \n",
       "\n",
       "   condition  grade  sqft_above  ...  yr_built  yr_renovated  zipcode  \\\n",
       "0          5      8        1719  ...      2023          2023    98007   \n",
       "\n",
       "        lat       long  sqft_living15  sqft_lot15  age  in_expensive_zip  \\\n",
       "0  47.62337 -122.13313           1719        1719    0                 0   \n",
       "\n",
       "   has_basement  \n",
       "0             0  \n",
       "\n",
       "[1 rows x 21 columns]"
      ]
     },
     "execution_count": 27,
     "metadata": {},
     "output_type": "execute_result"
    }
   ],
   "source": [
    "import pandas as pd\n",
    "\n",
    "# create a dictionary of column names and values\n",
    "data = {'bedrooms': [3], 'bathrooms': [3], 'sqft_living': [1719], 'sqft_lot': [1719], 'floors': [1], 'waterfront': [0], \n",
    "        'view': [0], 'condition': [5], 'grade': [8], 'sqft_above': [1719], 'sqft_basement': [0], 'yr_built': [2023], \n",
    "        'yr_renovated': [2023], 'zipcode': [98007], 'lat': [47.623370], 'long': [-122.133130], 'sqft_living15': [1719], \n",
    "        'sqft_lot15': [1719], 'age': [0], 'in_expensive_zip': [0], 'has_basement': [0]}\n",
    "\n",
    "# create a new DataFrame from the dictionary\n",
    "zwillow_house = pd.DataFrame(data)\n",
    "\n",
    "# display the new DataFrame\n",
    "\n",
    "zwillow_house\n"
   ]
  },
  {
   "cell_type": "code",
   "execution_count": 28,
   "metadata": {},
   "outputs": [
    {
     "data": {
      "text/plain": [
       "1091090.2760694195"
      ]
     },
     "execution_count": 28,
     "metadata": {},
     "output_type": "execute_result"
    }
   ],
   "source": [
    "log_price = grid_search.best_estimator_.predict(zwillow_house)\n",
    "price = np.exp(log_price)\n",
    "price[0]*2.03"
   ]
  },
  {
   "cell_type": "code",
   "execution_count": 29,
   "metadata": {},
   "outputs": [
    {
     "data": {
      "text/html": [
       "<div>\n",
       "<style scoped>\n",
       "    .dataframe tbody tr th:only-of-type {\n",
       "        vertical-align: middle;\n",
       "    }\n",
       "\n",
       "    .dataframe tbody tr th {\n",
       "        vertical-align: top;\n",
       "    }\n",
       "\n",
       "    .dataframe thead th {\n",
       "        text-align: right;\n",
       "    }\n",
       "</style>\n",
       "<table border=\"1\" class=\"dataframe\">\n",
       "  <thead>\n",
       "    <tr style=\"text-align: right;\">\n",
       "      <th></th>\n",
       "      <th>bedrooms</th>\n",
       "      <th>bathrooms</th>\n",
       "      <th>sqft_living</th>\n",
       "      <th>sqft_lot</th>\n",
       "      <th>floors</th>\n",
       "      <th>waterfront</th>\n",
       "      <th>view</th>\n",
       "      <th>condition</th>\n",
       "      <th>grade</th>\n",
       "      <th>sqft_above</th>\n",
       "      <th>...</th>\n",
       "      <th>yr_built</th>\n",
       "      <th>yr_renovated</th>\n",
       "      <th>zipcode</th>\n",
       "      <th>lat</th>\n",
       "      <th>long</th>\n",
       "      <th>sqft_living15</th>\n",
       "      <th>sqft_lot15</th>\n",
       "      <th>age</th>\n",
       "      <th>in_expensive_zip</th>\n",
       "      <th>has_basement</th>\n",
       "    </tr>\n",
       "  </thead>\n",
       "  <tbody>\n",
       "    <tr>\n",
       "      <th>0</th>\n",
       "      <td>4</td>\n",
       "      <td>8</td>\n",
       "      <td>1719</td>\n",
       "      <td>6920</td>\n",
       "      <td>3</td>\n",
       "      <td>1</td>\n",
       "      <td>1</td>\n",
       "      <td>5</td>\n",
       "      <td>11</td>\n",
       "      <td>6920</td>\n",
       "      <td>...</td>\n",
       "      <td>2023</td>\n",
       "      <td>2023</td>\n",
       "      <td>98007</td>\n",
       "      <td>47.62337</td>\n",
       "      <td>-122.13313</td>\n",
       "      <td>1995</td>\n",
       "      <td>6920</td>\n",
       "      <td>28</td>\n",
       "      <td>1</td>\n",
       "      <td>0</td>\n",
       "    </tr>\n",
       "  </tbody>\n",
       "</table>\n",
       "<p>1 rows × 21 columns</p>\n",
       "</div>"
      ],
      "text/plain": [
       "   bedrooms  bathrooms  sqft_living  sqft_lot  floors  waterfront  view  \\\n",
       "0         4          8         1719      6920       3           1     1   \n",
       "\n",
       "   condition  grade  sqft_above  ...  yr_built  yr_renovated  zipcode  \\\n",
       "0          5     11        6920  ...      2023          2023    98007   \n",
       "\n",
       "        lat       long  sqft_living15  sqft_lot15  age  in_expensive_zip  \\\n",
       "0  47.62337 -122.13313           1995        6920   28                 1   \n",
       "\n",
       "   has_basement  \n",
       "0             0  \n",
       "\n",
       "[1 rows x 21 columns]"
      ]
     },
     "execution_count": 29,
     "metadata": {},
     "output_type": "execute_result"
    }
   ],
   "source": [
    "data = {'bedrooms': [4], 'bathrooms': [8], 'sqft_living': [1719], 'sqft_lot': [6920], 'floors': [3], 'waterfront': [1], \n",
    "        'view': [1], 'condition': [5], 'grade': [11], 'sqft_above': [6920], 'sqft_basement': [0], 'yr_built': [2023], \n",
    "        'yr_renovated': [2023], 'zipcode': [98007], 'lat': [47.623370], 'long': [-122.133130], 'sqft_living15': [1995], \n",
    "        'sqft_lot15': [6920], 'age': [28], 'in_expensive_zip': [1], 'has_basement': [0]}\n",
    "\n",
    "# create a new DataFrame from the dictionary\n",
    "zwillow_house = pd.DataFrame(data)\n",
    "\n",
    "# display the new DataFrame\n",
    "\n",
    "zwillow_house"
   ]
  },
  {
   "cell_type": "code",
   "execution_count": 30,
   "metadata": {},
   "outputs": [
    {
     "data": {
      "image/png": "[encoded data removed]",
      "text/plain": [
       "<Figure size 800x600 with 1 Axes>"
      ]
     },
     "metadata": {},
     "output_type": "display_data"
    }
   ],
   "source": [
    "feature_df = pd.DataFrame()\n",
    "feature_df['importance'] = feature_importances\n",
    "feature_df['feature'] = feature_names\n",
    "\n",
    "plt.figure(figsize=(8, 6))\n",
    "plt.bar(feature_df['feature'], feature_df['importance'])\n",
    "plt.xticks(rotation=90)\n",
    "plt.xlabel('Feature')\n",
    "plt.ylabel('Importance')\n",
    "plt.title('Feature Importances')\n",
    "plt.show()"
   ]
  },
  {
   "cell_type": "code",
   "execution_count": 31,
   "metadata": {},
   "outputs": [
    {
     "name": "stdout",
     "output_type": "stream",
     "text": [
      "Mean Squared Error:  0.06349772565117434\n"
     ]
    }
   ],
   "source": [
    "model = AdaBoostRegressor()\n",
    "\n",
    "# Train the model\n",
    "model.fit(X_train, y_train)\n",
    "\n",
    "# Make predictions on the testing set\n",
    "y_pred = model.predict(X_test)\n",
    "\n",
    "# Evaluate the model using mean squared error\n",
    "mse = mean_squared_error(y_test, y_pred)\n",
    "print(\"Mean Squared Error: \", mse)"
   ]
  }
 ],
 "metadata": {
  "kernelspec": {
   "display_name": "Python 3",
   "language": "python",
   "name": "python3"
  },
  "language_info": {
   "codemirror_mode": {
    "name": "ipython",
    "version": 3
   },
   "file_extension": ".py",
   "mimetype": "text/x-python",
   "name": "python",
   "nbconvert_exporter": "python",
   "pygments_lexer": "ipython3",
   "version": "3.11.2"
  },
  "orig_nbformat": 4
 },
 "nbformat": 4,
 "nbformat_minor": 2
}
